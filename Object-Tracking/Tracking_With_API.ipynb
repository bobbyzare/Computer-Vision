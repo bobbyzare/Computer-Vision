{
 "cells": [
  {
   "cell_type": "markdown",
   "id": "376ad85d",
   "metadata": {},
   "source": [
    "## TRACKING APIS WITH OPENCV"
   ]
  },
  {
   "cell_type": "code",
   "execution_count": 1,
   "id": "824ac36f",
   "metadata": {},
   "outputs": [],
   "source": [
    "import cv2"
   ]
  },
  {
   "cell_type": "code",
   "execution_count": 2,
   "id": "7eba0371",
   "metadata": {},
   "outputs": [],
   "source": [
    "def ask_for_tracker():\n",
    "    print(\"Welcome  what Tracker API would you like to use ? \")\n",
    "    print(\"Enter 0 for GOTURN\")\n",
    "    print(\"Enter 1 for DaSiamRPN\")\n",
    "    print(\"Enter 2 for MIL\")\n",
    "    print(\"Enter 3 for Nano\")\n",
    "    #print(\"Enter 4 for MEDIANFLOW\")\n",
    "    choice = input(\"Please select your tracker: \")\n",
    "    \n",
    "    if choice == \"0\":\n",
    "        tracker = cv2.TrackerGOTURN_create()\n",
    "    if choice == \"1\":\n",
    "        tracker = cv2.TrackerDaSiamRPN_create()\n",
    "    if choice == \"2\":\n",
    "        tracker = cv2.TrackerMIL_create()\n",
    "    if choice == \"3\":\n",
    "        tracker = cv2.TrackerNano_create()\n",
    "    #if choice == \"4\":\n",
    "        #tracker = cv2.TrackerMedianFlow_create()\n",
    "        \n",
    "    return tracker"
   ]
  },
  {
   "cell_type": "code",
   "execution_count": 13,
   "id": "f91c6978",
   "metadata": {},
   "outputs": [
    {
     "name": "stdout",
     "output_type": "stream",
     "text": [
      "Welcome  what Tracker API would you like to use ? \n",
      "Enter 0 for GOTURN\n",
      "Enter 1 for DaSiamRPN\n",
      "Enter 2 for MIL\n",
      "Enter 3 for Nano\n",
      "Please select your tracker: 2\n"
     ]
    }
   ],
   "source": [
    "tracker = ask_for_tracker()\n",
    "str(tracker).split()[0][1:]\n",
    "tracker_name = str(tracker).split()[0][1:]\n",
    "\n",
    "##read video\n",
    "cap = cv2.VideoCapture(0)\n",
    "\n",
    "##read first frame\n",
    "ret, frame = cap.read()\n",
    "\n",
    "##special functions allows us to draw on the first frame our desired ROI\n",
    "roi = cv2.selectROI(frame,False)\n",
    "\n",
    "###initialize tracker with first frame and bounding box\n",
    "ret = tracker.init(frame,roi)\n",
    "\n",
    "\n",
    "while True:\n",
    "    \n",
    "    #read new frame\n",
    "    ret, frame = cap.read()\n",
    "    \n",
    "    #update tracker\n",
    "    success, roi = tracker.update(frame)\n",
    "    \n",
    "    #roi variable is a tuple of 4 floats\n",
    "    #we need each value and each of them as int\n",
    "    (x,y,w,h) = tuple(map(int,roi))\n",
    "    \n",
    "    ##draw rectangle as tracker moves\n",
    "    if success:\n",
    "        #tracking success\n",
    "        p1 = (x,y)\n",
    "        p2 = (x+w,y+h)\n",
    "        cv2.rectangle(frame,p1,p2,(0,255,0),3)\n",
    "        \n",
    "    else :\n",
    "        ## tracking failure\n",
    "        cv2.putText(frame,\"Failure to detect Tracking\",(200,400),cv2.FONT_HERSHEY_SIMPLEX,1,(0,225,0),3)\n",
    "        \n",
    "    #display tracker name on frame\n",
    "    cv2.putText(frame,tracker_name,(200,400),cv2.FONT_HERSHEY_SIMPLEX,1,(0,0,255),3)\n",
    "    \n",
    "    #display result\n",
    "    cv2.imshow(tracker_name,frame)\n",
    "    \n",
    "    \n",
    "    k = cv2.waitKey(30) & 0XFF\n",
    "    if k == 27:\n",
    "        break\n",
    "    \n",
    "    \n",
    "cap.release()\n",
    "cv2.destroyAllWindows()"
   ]
  },
  {
   "cell_type": "code",
   "execution_count": null,
   "id": "74d32b02",
   "metadata": {},
   "outputs": [],
   "source": [
    "\n"
   ]
  },
  {
   "cell_type": "code",
   "execution_count": null,
   "id": "d04624aa",
   "metadata": {},
   "outputs": [],
   "source": []
  }
 ],
 "metadata": {
  "kernelspec": {
   "display_name": "Python 3 (ipykernel)",
   "language": "python",
   "name": "python3"
  },
  "language_info": {
   "codemirror_mode": {
    "name": "ipython",
    "version": 3
   },
   "file_extension": ".py",
   "mimetype": "text/x-python",
   "name": "python",
   "nbconvert_exporter": "python",
   "pygments_lexer": "ipython3",
   "version": "3.11.5"
  }
 },
 "nbformat": 4,
 "nbformat_minor": 5
}
