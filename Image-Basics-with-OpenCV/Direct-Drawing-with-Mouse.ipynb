{
 "cells": [
  {
   "cell_type": "markdown",
   "id": "83b21871",
   "metadata": {},
   "source": [
    "## DIRECT DRAWING ON IMAGE WITH MOUSE PART ONE"
   ]
  },
  {
   "cell_type": "code",
   "execution_count": null,
   "id": "cd505c9c",
   "metadata": {},
   "outputs": [],
   "source": [
    "import cv2\n",
    "import numpy as np\n",
    "\n",
    "\n",
    "####################\n",
    "##function#####\n",
    "##############\n",
    "\n",
    "def draw_circle(event,x,y,flags,param):\n",
    "    \n",
    "    #it Will draw a green circle on image as soon as you click left button on mouse\n",
    "    if event == cv2.EVENT_LBUTTONDOWN:\n",
    "        cv2.circle(img,(x,y),100,(0,255,0),-1)\n",
    "        \n",
    "    #it Will draw a green circle on image as soon as you click left button on mouse\n",
    "    elif event == cv2.EVENT_RBUTTONDOWN:\n",
    "        cv2.circle(img,(x,y),100,(0,0,255),-1)\n",
    "\n",
    "# it will connect your window with the your image\n",
    "cv2.namedWindow(winname=\"my_drawing\")\n",
    "\n",
    "#it will connect mouse with your drawing\n",
    "cv2.setMouseCallback(\"my_drawing\",draw_circle)\n",
    "\n",
    "\n",
    "\n",
    "###################\n",
    "###Sowing image with opencv\n",
    "##################\n",
    "\n",
    "#creates an blank image\n",
    "img = np.zeros((512,512,3),)\n",
    "\n",
    "\n",
    "while True:\n",
    "    cv2.imshow(\"my_drawing\",img)\n",
    "    \n",
    "    if cv2.waitKey(20) & 0xFF == 27:\n",
    "        break\n",
    "        \n",
    "cv2.destroyAllWindows()"
   ]
  },
  {
   "cell_type": "code",
   "execution_count": null,
   "id": "30f003dd",
   "metadata": {},
   "outputs": [],
   "source": []
  },
  {
   "cell_type": "markdown",
   "id": "ba59f880",
   "metadata": {},
   "source": [
    "## DIRECT DRAWING ON IMAGE WITH MOUSE (Rectangle)"
   ]
  },
  {
   "cell_type": "code",
   "execution_count": null,
   "id": "a0aeff14",
   "metadata": {},
   "outputs": [],
   "source": [
    "import cv2\n",
    "import numpy as np\n",
    "\n",
    "##variable\n",
    "#it will be true while mouse button down and false while mouse button up\n",
    "drawing = False\n",
    "ix = -1\n",
    "iy = -1\n",
    " \n",
    "\n",
    "\n",
    "\n",
    "#function\n",
    "def draw_rectangle(event,x,y,flags,params):\n",
    "    \n",
    "    global ix,iy,drawing\n",
    "    \n",
    "    if event == cv2.EVENT_LBUTTONDOWN:\n",
    "        drawing = True\n",
    "        ix = x\n",
    "        iy = y\n",
    "        \n",
    "    elif event == cv2.EVENT_MOUSEMOVE:\n",
    "        if drawing == True:\n",
    "            cv2.rectangle(img,(ix,iy),(x,y),(0,255,0),-1)\n",
    "            \n",
    "    elif event ==cv2.EVENT_LBUTTONUP:\n",
    "        drawing = False\n",
    "        cv2.rectangle(img,(ix,iy),(x,y),(0,255,0),-1)\n",
    "    \n",
    "\n",
    "#showing the Image\n",
    "\n",
    "\n",
    "#creating a blank image\n",
    "img = np.zeros((512,512,3))\n",
    "\n",
    "# it will connect your window with the your image\n",
    "cv2.namedWindow(winname=\"my_drawing\")\n",
    "\n",
    "#it will connect mouse with your drawing\n",
    "cv2.setMouseCallback(\"my_drawing\",draw_rectangle)\n",
    "\n",
    "\n",
    "while True:\n",
    "    \n",
    "    # it will display the Blank image\n",
    "    cv2.imshow(\"my_drawing\",img)\n",
    "    \n",
    "    #if user enters esc key it will break\n",
    "    if cv2.waitKey(1) & 0xFF == 27:\n",
    "        break\n",
    "        \n",
    "        \n",
    "cv2.destroyAllwindows()\n",
    "\n",
    "\n"
   ]
  },
  {
   "cell_type": "code",
   "execution_count": null,
   "metadata": {},
   "outputs": [],
   "source": []
  },
  {
   "cell_type": "code",
   "execution_count": null,
   "metadata": {},
   "outputs": [],
   "source": []
  },
  {
   "cell_type": "code",
   "execution_count": null,
   "metadata": {},
   "outputs": [],
   "source": []
  },
  {
   "cell_type": "code",
   "execution_count": null,
   "metadata": {},
   "outputs": [],
   "source": []
  },
  {
   "cell_type": "code",
   "execution_count": null,
   "metadata": {},
   "outputs": [],
   "source": []
  },
  {
   "cell_type": "code",
   "execution_count": null,
   "metadata": {},
   "outputs": [],
   "source": []
  },
  {
   "cell_type": "code",
   "execution_count": null,
   "metadata": {},
   "outputs": [],
   "source": []
  },
  {
   "cell_type": "code",
   "execution_count": null,
   "metadata": {},
   "outputs": [],
   "source": []
  },
  {
   "cell_type": "code",
   "execution_count": null,
   "metadata": {},
   "outputs": [],
   "source": []
  },
  {
   "cell_type": "code",
   "execution_count": null,
   "metadata": {},
   "outputs": [],
   "source": []
  },
  {
   "cell_type": "code",
   "execution_count": null,
   "metadata": {},
   "outputs": [],
   "source": []
  },
  {
   "cell_type": "code",
   "execution_count": null,
   "metadata": {},
   "outputs": [],
   "source": []
  },
  {
   "cell_type": "code",
   "execution_count": null,
   "metadata": {},
   "outputs": [],
   "source": []
  },
  {
   "cell_type": "code",
   "execution_count": null,
   "metadata": {},
   "outputs": [],
   "source": []
  },
  {
   "cell_type": "code",
   "execution_count": null,
   "metadata": {},
   "outputs": [],
   "source": []
  },
  {
   "cell_type": "code",
   "execution_count": null,
   "metadata": {},
   "outputs": [],
   "source": []
  },
  {
   "cell_type": "code",
   "execution_count": null,
   "metadata": {},
   "outputs": [],
   "source": []
  }
 ],
 "metadata": {
  "kernelspec": {
   "display_name": "Python 3 (ipykernel)",
   "language": "python",
   "name": "python3"
  },
  "language_info": {
   "codemirror_mode": {
    "name": "ipython",
    "version": 3
   },
   "file_extension": ".py",
   "mimetype": "text/x-python",
   "name": "python",
   "nbconvert_exporter": "python",
   "pygments_lexer": "ipython3",
   "version": "3.11.5"
  }
 },
 "nbformat": 4,
 "nbformat_minor": 2
}
